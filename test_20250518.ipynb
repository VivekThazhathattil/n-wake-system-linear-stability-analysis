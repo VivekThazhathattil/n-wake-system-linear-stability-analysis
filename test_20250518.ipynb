{
 "cells": [
  {
   "cell_type": "markdown",
   "metadata": {},
   "source": [
    "We use a grid of complex wavenumber values. From the generalized eigenvalue problem for a  given complex wavenumber, we obtain the phase speed, from which we substitute back to get the complex frequency. We then plot the contour of the imaginary part of the complex frequency. This is a test script to check the functionality of the code.\n"
   ]
  },
  {
   "cell_type": "code",
   "execution_count": 169,
   "metadata": {},
   "outputs": [],
   "source": [
    "import os \n",
    "import sys\n",
    "m_path = os.getcwd()\n",
    "sys.path.append(m_path)\n",
    "\n",
    "# import all required modules:\n",
    "import sympy as sp\n",
    "import numpy as np\n",
    "import matplotlib.pyplot as plt\n",
    "from scipy.optimize import root\n",
    "#from mpmath import findroot\n",
    "from scipy.linalg import lu, solve_triangular, eig\n",
    "from numpy.linalg import cond\n",
    "\n",
    "from stream_functions import StreamFunctions\n",
    "from boundary_conditions import BoundaryConditions\n",
    "from temporal_stability import TemporalStability\n",
    "from two_equation_solver import *\n",
    "from claude1 import *"
   ]
  },
  {
   "cell_type": "markdown",
   "metadata": {},
   "source": [
    "Obtain the dispersion relation"
   ]
  },
  {
   "cell_type": "code",
   "execution_count": 170,
   "metadata": {},
   "outputs": [],
   "source": [
    "\n",
    "sf = StreamFunctions(n_wakes=1)\n",
    "bc = BoundaryConditions(sf)\n",
    "D  = bc.M_non_dim\n",
    "A = bc.A_non_dim\n",
    "B = bc.B_non_dim\n",
    "dispersion_relation = sp.simplify(sp.det(D))"
   ]
  },
  {
   "cell_type": "code",
   "execution_count": 171,
   "metadata": {},
   "outputs": [
    {
     "name": "stdout",
     "output_type": "stream",
     "text": [
      "\\left[\\begin{matrix}1 & - e^{- 0.5 \\alpha \\delta} & - e^{0.5 \\alpha \\delta} & 0\\\\0 & e^{0.5 \\alpha \\delta} & e^{- 0.5 \\alpha \\delta} & \\left(- s - e^{1.0 \\alpha \\left(D - \\delta\\right)}\\right) e^{- 0.5 \\alpha \\left(D - \\delta\\right)}\\\\- U_{ambient} \\alpha \\delta \\rho_{ambient} & \\rho_{ambient} \\left(U_{ambient} \\alpha \\delta + U_{ambient} - U_{wake}\\right) e^{- 0.5 \\alpha \\delta} & \\rho_{ambient} \\left(- U_{ambient} \\alpha \\delta + U_{ambient} - U_{wake}\\right) e^{0.5 \\alpha \\delta} & 0\\\\0 & \\rho_{ambient} \\left(- U_{ambient} - U_{wake} \\alpha \\delta + U_{wake}\\right) e^{0.5 \\alpha \\delta} & \\rho_{ambient} \\left(- U_{ambient} + U_{wake} \\alpha \\delta + U_{wake}\\right) e^{- 0.5 \\alpha \\delta} & U_{wake} \\alpha \\delta \\rho_{wake} \\left(s - e^{1.0 \\alpha \\left(D - \\delta\\right)}\\right) e^{- 0.5 \\alpha \\left(D - \\delta\\right)}\\end{matrix}\\right]\n",
      "\\left[\\begin{matrix}0 & 0 & 0 & 0\\\\0 & 0 & 0 & 0\\\\- \\alpha \\delta \\rho_{ambient} & \\alpha \\delta \\rho_{ambient} e^{- 0.5 \\alpha \\delta} & - \\alpha \\delta \\rho_{ambient} e^{0.5 \\alpha \\delta} & 0\\\\0 & - \\alpha \\delta \\rho_{ambient} e^{0.5 \\alpha \\delta} & \\alpha \\delta \\rho_{ambient} e^{- 0.5 \\alpha \\delta} & \\alpha \\delta \\rho_{wake} \\left(s - e^{1.0 \\alpha \\left(D - \\delta\\right)}\\right) e^{- 0.5 \\alpha \\left(D - \\delta\\right)}\\end{matrix}\\right]\n",
      "\\left[\\begin{matrix}1 & - e^{- 0.5 \\alpha \\delta} & - e^{0.5 \\alpha \\delta} & 0\\\\0 & e^{0.5 \\alpha \\delta} & e^{- 0.5 \\alpha \\delta} & \\left(- s e^{1.0 \\alpha \\left(\\delta - 1\\right)} - 1\\right) e^{- 0.5 \\alpha \\left(\\delta - 1\\right)}\\\\\\alpha \\delta \\left(\\Lambda + c - 1\\right) & \\left(- 2 \\Lambda - \\alpha \\delta \\left(\\Lambda + c - 1\\right)\\right) e^{- 0.5 \\alpha \\delta} & \\left(- 2 \\Lambda + \\alpha \\delta \\left(\\Lambda + c - 1\\right)\\right) e^{0.5 \\alpha \\delta} & 0\\\\0 & \\left(2 \\Lambda - \\alpha \\delta \\left(\\Lambda - c + 1\\right)\\right) e^{0.5 \\alpha \\delta} & \\left(2 \\Lambda + \\alpha \\delta \\left(\\Lambda - c + 1\\right)\\right) e^{- 0.5 \\alpha \\delta} & S \\alpha \\delta \\left(s e^{1.0 \\alpha \\left(\\delta - 1\\right)} - 1\\right) \\left(\\Lambda - c + 1\\right) e^{- 0.5 \\alpha \\left(\\delta - 1\\right)}\\end{matrix}\\right]\n"
     ]
    }
   ],
   "source": [
    "A_dim = bc.A\n",
    "B_dim = bc.B\n",
    "print(sp.latex(sp.simplify(A_dim)))\n",
    "print(sp.latex(sp.simplify(B_dim)))\n",
    "print(sp.latex(sp.simplify(D)))"
   ]
  },
  {
   "cell_type": "markdown",
   "metadata": {},
   "source": []
  },
  {
   "cell_type": "code",
   "execution_count": 172,
   "metadata": {},
   "outputs": [
    {
     "name": "stdout",
     "output_type": "stream",
     "text": [
      "A_non_dim\n",
      "\\left[\\begin{matrix}1 & - e^{- 0.5 \\alpha \\delta} & - e^{0.5 \\alpha \\delta} & 0\\\\0 & e^{0.5 \\alpha \\delta} & e^{- 0.5 \\alpha \\delta} & - s e^{- \\alpha \\left(0.5 - 0.5 \\delta\\right)} - e^{\\alpha \\left(0.5 - 0.5 \\delta\\right)}\\\\- \\alpha \\delta \\left(1 - \\Lambda\\right) & - \\delta \\left(\\frac{2 \\Lambda e^{- 0.5 \\alpha \\delta}}{\\delta} - \\alpha \\left(1 - \\Lambda\\right) e^{- 0.5 \\alpha \\delta}\\right) & - \\delta \\left(\\frac{2 \\Lambda e^{0.5 \\alpha \\delta}}{\\delta} + \\alpha \\left(1 - \\Lambda\\right) e^{0.5 \\alpha \\delta}\\right) & 0\\\\0 & \\delta \\left(\\frac{2 \\Lambda e^{0.5 \\alpha \\delta}}{\\delta} - \\alpha \\left(\\Lambda + 1\\right) e^{0.5 \\alpha \\delta}\\right) & \\delta \\left(\\frac{2 \\Lambda e^{- 0.5 \\alpha \\delta}}{\\delta} + \\alpha \\left(\\Lambda + 1\\right) e^{- 0.5 \\alpha \\delta}\\right) & - S \\delta \\left(\\Lambda + 1\\right) \\left(- \\alpha s e^{- \\alpha \\left(0.5 - 0.5 \\delta\\right)} + \\alpha e^{\\alpha \\left(0.5 - 0.5 \\delta\\right)}\\right)\\end{matrix}\\right]\n",
      "B_non_dim\n",
      "\\left[\\begin{matrix}0 & 0 & 0 & 0\\\\0 & 0 & 0 & 0\\\\- \\Lambda \\alpha \\delta - \\alpha \\delta \\left(1 - \\Lambda\\right) & \\delta \\left(\\Lambda \\alpha e^{- 0.5 \\alpha \\delta} + \\frac{2 \\Lambda e^{- 0.5 \\alpha \\delta}}{\\delta}\\right) - \\delta \\left(\\frac{2 \\Lambda e^{- 0.5 \\alpha \\delta}}{\\delta} - \\alpha \\left(1 - \\Lambda\\right) e^{- 0.5 \\alpha \\delta}\\right) & \\delta \\left(- \\Lambda \\alpha e^{0.5 \\alpha \\delta} + \\frac{2 \\Lambda e^{0.5 \\alpha \\delta}}{\\delta}\\right) - \\delta \\left(\\frac{2 \\Lambda e^{0.5 \\alpha \\delta}}{\\delta} + \\alpha \\left(1 - \\Lambda\\right) e^{0.5 \\alpha \\delta}\\right) & 0\\\\0 & - \\delta \\left(- \\Lambda \\alpha e^{0.5 \\alpha \\delta} + \\frac{2 \\Lambda e^{0.5 \\alpha \\delta}}{\\delta}\\right) + \\delta \\left(\\frac{2 \\Lambda e^{0.5 \\alpha \\delta}}{\\delta} - \\alpha \\left(\\Lambda + 1\\right) e^{0.5 \\alpha \\delta}\\right) & - \\delta \\left(\\Lambda \\alpha e^{- 0.5 \\alpha \\delta} + \\frac{2 \\Lambda e^{- 0.5 \\alpha \\delta}}{\\delta}\\right) + \\delta \\left(\\frac{2 \\Lambda e^{- 0.5 \\alpha \\delta}}{\\delta} + \\alpha \\left(\\Lambda + 1\\right) e^{- 0.5 \\alpha \\delta}\\right) & \\Lambda S \\delta \\left(- \\alpha s e^{- \\alpha \\left(0.5 - 0.5 \\delta\\right)} + \\alpha e^{\\alpha \\left(0.5 - 0.5 \\delta\\right)}\\right) - S \\delta \\left(\\Lambda + 1\\right) \\left(- \\alpha s e^{- \\alpha \\left(0.5 - 0.5 \\delta\\right)} + \\alpha e^{\\alpha \\left(0.5 - 0.5 \\delta\\right)}\\right)\\end{matrix}\\right]\n"
     ]
    }
   ],
   "source": [
    "print('A_non_dim')\n",
    "print(sp.latex(A))\n",
    "print('B_non_dim')\n",
    "print(sp.latex(B))"
   ]
  },
  {
   "cell_type": "markdown",
   "metadata": {},
   "source": [
    "Substitute the desired values"
   ]
  },
  {
   "cell_type": "code",
   "execution_count": 173,
   "metadata": {},
   "outputs": [],
   "source": [
    "#val_set = {'S': 0.2, 'Lambda': -3.1, 'delta': 0.1, 's':-1, 'c': f'{sf.w}/{sf.alpha}'}\n",
    "#val_set = {'S': 1.0, 'Lambda': -3.1, 'L': 0.0, 'delta': 0.1, 's':-1}\n",
    "val_set = {'S': 0.38, 'Lambda': -3.1, 'L': 0.0, 'delta': 0.1, 's':-1}\n",
    "#val_set = {'S': 1, 'Lambda': 0.9, 'L': 0.0, 'delta': 0.5, 's':-1}\n",
    "A_sub = A.subs(val_set)\n",
    "B_sub = B.subs(val_set)\n",
    "dispersion_relation_sub = dispersion_relation.subs(val_set)"
   ]
  },
  {
   "cell_type": "markdown",
   "metadata": {},
   "source": [
    "Form the derivative of the determinant equals $0$ equation"
   ]
  },
  {
   "cell_type": "code",
   "execution_count": 174,
   "metadata": {},
   "outputs": [
    {
     "name": "stdout",
     "output_type": "stream",
     "text": [
      "1.4 \\left(3.1 \\left(- 0.138 \\alpha c - 0.2898 \\alpha - 6.2\\right) e^{- 1.25 \\alpha} - 3.1 \\left(- 0.062 \\alpha c - 0.1302 \\alpha - 6.2\\right) e^{- 0.35 \\alpha} - \\left(0.0062 \\alpha^{2} c^{2} - 0.0124 \\alpha^{2} c - 0.053382 \\alpha^{2} - 0.4278 \\alpha c + 2.94562 \\alpha - 19.22\\right) e^{- 1.05 \\alpha} + \\left(0.0138 \\alpha^{2} c^{2} - 0.0276 \\alpha^{2} c - 0.118818 \\alpha^{2} - 0.1922 \\alpha c + 3.44038 \\alpha - 19.22\\right) e^{- 0.15 \\alpha}\\right) e^{0.7 \\alpha} + 2 \\left(3.1 \\left(- 0.138 c - 0.2898\\right) e^{- 1.25 \\alpha} - 3.1 \\left(- 0.062 c - 0.1302\\right) e^{- 0.35 \\alpha} - 3.875 \\left(- 0.138 \\alpha c - 0.2898 \\alpha - 6.2\\right) e^{- 1.25 \\alpha} + 1.085 \\left(- 0.062 \\alpha c - 0.1302 \\alpha - 6.2\\right) e^{- 0.35 \\alpha} - \\left(0.0124 \\alpha c^{2} - 0.0248 \\alpha c - 0.106764 \\alpha - 0.4278 c + 2.94562\\right) e^{- 1.05 \\alpha} + \\left(0.0276 \\alpha c^{2} - 0.0552 \\alpha c - 0.237636 \\alpha - 0.1922 c + 3.44038\\right) e^{- 0.15 \\alpha} + 1.05 \\left(0.0062 \\alpha^{2} c^{2} - 0.0124 \\alpha^{2} c - 0.053382 \\alpha^{2} - 0.4278 \\alpha c + 2.94562 \\alpha - 19.22\\right) e^{- 1.05 \\alpha} - 0.15 \\left(0.0138 \\alpha^{2} c^{2} - 0.0276 \\alpha^{2} c - 0.118818 \\alpha^{2} - 0.1922 \\alpha c + 3.44038 \\alpha - 19.22\\right) e^{- 0.15 \\alpha}\\right) e^{0.7 \\alpha}\n"
     ]
    }
   ],
   "source": [
    "deriv_disp = sp.diff(dispersion_relation_sub, sf.alpha)\n",
    "print(sp.latex(deriv_disp))"
   ]
  },
  {
   "cell_type": "markdown",
   "metadata": {},
   "source": [
    "Solve the generalized eigenvalue problem to obtain value for c for a grid of phase_speed $c$ values"
   ]
  },
  {
   "cell_type": "code",
   "execution_count": 194,
   "metadata": {},
   "outputs": [
    {
     "name": "stdout",
     "output_type": "stream",
     "text": [
      "Row 1 of 200\n"
     ]
    },
    {
     "name": "stderr",
     "output_type": "stream",
     "text": [
      "C:\\Users\\tvivek\\AppData\\Local\\Temp\\ipykernel_8204\\316263550.py:15: RuntimeWarning: invalid value encountered in multiply\n",
      "  temp_w_vals = c_val_list * alpha_val\n"
     ]
    },
    {
     "name": "stdout",
     "output_type": "stream",
     "text": [
      "Row 2 of 200\n",
      "Row 3 of 200\n",
      "Row 4 of 200\n",
      "Row 5 of 200\n",
      "Row 6 of 200\n",
      "Row 7 of 200\n",
      "Row 8 of 200\n",
      "Row 9 of 200\n",
      "Row 10 of 200\n",
      "Row 11 of 200\n",
      "Row 12 of 200\n",
      "Row 13 of 200\n",
      "Row 14 of 200\n",
      "Row 15 of 200\n",
      "Row 16 of 200\n",
      "Row 17 of 200\n",
      "Row 18 of 200\n",
      "Row 19 of 200\n",
      "Row 20 of 200\n",
      "Row 21 of 200\n",
      "Row 22 of 200\n",
      "Row 23 of 200\n",
      "Row 24 of 200\n",
      "Row 25 of 200\n",
      "Row 26 of 200\n",
      "Row 27 of 200\n",
      "Row 28 of 200\n",
      "Row 29 of 200\n",
      "Row 30 of 200\n",
      "Row 31 of 200\n",
      "Row 32 of 200\n",
      "Row 33 of 200\n",
      "Row 34 of 200\n",
      "Row 35 of 200\n",
      "Row 36 of 200\n",
      "Row 37 of 200\n",
      "Row 38 of 200\n",
      "Row 39 of 200\n",
      "Row 40 of 200\n",
      "Row 41 of 200\n",
      "Row 42 of 200\n",
      "Row 43 of 200\n",
      "Row 44 of 200\n",
      "Row 45 of 200\n",
      "Row 46 of 200\n",
      "Row 47 of 200\n",
      "Row 48 of 200\n",
      "Row 49 of 200\n",
      "Row 50 of 200\n",
      "Row 51 of 200\n",
      "Row 52 of 200\n",
      "Row 53 of 200\n",
      "Row 54 of 200\n",
      "Row 55 of 200\n",
      "Row 56 of 200\n",
      "Row 57 of 200\n",
      "Row 58 of 200\n",
      "Row 59 of 200\n",
      "Row 60 of 200\n",
      "Row 61 of 200\n",
      "Row 62 of 200\n",
      "Row 63 of 200\n",
      "Row 64 of 200\n",
      "Row 65 of 200\n",
      "Row 66 of 200\n",
      "Row 67 of 200\n",
      "Row 68 of 200\n",
      "Row 69 of 200\n",
      "Row 70 of 200\n",
      "Row 71 of 200\n",
      "Row 72 of 200\n",
      "Row 73 of 200\n",
      "Row 74 of 200\n",
      "Row 75 of 200\n",
      "Row 76 of 200\n",
      "Row 77 of 200\n",
      "Row 78 of 200\n",
      "Row 79 of 200\n",
      "Row 80 of 200\n",
      "Row 81 of 200\n",
      "Row 82 of 200\n",
      "Row 83 of 200\n",
      "Row 84 of 200\n",
      "Row 85 of 200\n",
      "Row 86 of 200\n",
      "Row 87 of 200\n",
      "Row 88 of 200\n",
      "Row 89 of 200\n",
      "Row 90 of 200\n",
      "Row 91 of 200\n",
      "Row 92 of 200\n",
      "Row 93 of 200\n",
      "Row 94 of 200\n",
      "Row 95 of 200\n",
      "Row 96 of 200\n",
      "Row 97 of 200\n",
      "Row 98 of 200\n",
      "Row 99 of 200\n",
      "Row 100 of 200\n",
      "Row 101 of 200\n",
      "Row 102 of 200\n",
      "Row 103 of 200\n",
      "Row 104 of 200\n",
      "Row 105 of 200\n",
      "Row 106 of 200\n",
      "Row 107 of 200\n",
      "Row 108 of 200\n",
      "Row 109 of 200\n",
      "Row 110 of 200\n",
      "Row 111 of 200\n",
      "Row 112 of 200\n",
      "Row 113 of 200\n",
      "Row 114 of 200\n",
      "Row 115 of 200\n",
      "Row 116 of 200\n",
      "Row 117 of 200\n",
      "Row 118 of 200\n",
      "Row 119 of 200\n",
      "Row 120 of 200\n",
      "Row 121 of 200\n",
      "Row 122 of 200\n",
      "Row 123 of 200\n",
      "Row 124 of 200\n",
      "Row 125 of 200\n",
      "Row 126 of 200\n",
      "Row 127 of 200\n",
      "Row 128 of 200\n",
      "Row 129 of 200\n",
      "Row 130 of 200\n",
      "Row 131 of 200\n",
      "Row 132 of 200\n",
      "Row 133 of 200\n",
      "Row 134 of 200\n",
      "Row 135 of 200\n",
      "Row 136 of 200\n",
      "Row 137 of 200\n",
      "Row 138 of 200\n",
      "Row 139 of 200\n",
      "Row 140 of 200\n",
      "Row 141 of 200\n",
      "Row 142 of 200\n",
      "Row 143 of 200\n",
      "Row 144 of 200\n",
      "Row 145 of 200\n",
      "Row 146 of 200\n",
      "Row 147 of 200\n",
      "Row 148 of 200\n",
      "Row 149 of 200\n",
      "Row 150 of 200\n",
      "Row 151 of 200\n",
      "Row 152 of 200\n",
      "Row 153 of 200\n",
      "Row 154 of 200\n",
      "Row 155 of 200\n",
      "Row 156 of 200\n",
      "Row 157 of 200\n",
      "Row 158 of 200\n",
      "Row 159 of 200\n",
      "Row 160 of 200\n",
      "Row 161 of 200\n",
      "Row 162 of 200\n",
      "Row 163 of 200\n",
      "Row 164 of 200\n",
      "Row 165 of 200\n",
      "Row 166 of 200\n",
      "Row 167 of 200\n",
      "Row 168 of 200\n",
      "Row 169 of 200\n",
      "Row 170 of 200\n",
      "Row 171 of 200\n",
      "Row 172 of 200\n",
      "Row 173 of 200\n",
      "Row 174 of 200\n",
      "Row 175 of 200\n",
      "Row 176 of 200\n",
      "Row 177 of 200\n",
      "Row 178 of 200\n",
      "Row 179 of 200\n",
      "Row 180 of 200\n",
      "Row 181 of 200\n",
      "Row 182 of 200\n",
      "Row 183 of 200\n",
      "Row 184 of 200\n",
      "Row 185 of 200\n",
      "Row 186 of 200\n",
      "Row 187 of 200\n",
      "Row 188 of 200\n",
      "Row 189 of 200\n",
      "Row 190 of 200\n",
      "Row 191 of 200\n",
      "Row 192 of 200\n",
      "Row 193 of 200\n",
      "Row 194 of 200\n",
      "Row 195 of 200\n",
      "Row 196 of 200\n",
      "Row 197 of 200\n",
      "Row 198 of 200\n",
      "Row 199 of 200\n",
      "Row 200 of 200\n"
     ]
    }
   ],
   "source": [
    "ts = TemporalStability(sf, bc, val_set)\n",
    "max_threshold = 1e6\n",
    "alpha_r = np.arange(0,10.01,0.1)\n",
    "alpha_i = np.arange(-10,10,0.1)\n",
    "alpha_R, alpha_I = np.meshgrid(alpha_r, alpha_i)\n",
    "alpha = alpha_R + 1j * alpha_I\n",
    "w_vals_imag = np.zeros_like(alpha_I)\n",
    "w_vals = np.zeros_like(alpha)\n",
    "\n",
    "for i in range(alpha.shape[0]):\n",
    "    print(f'Row {i+1} of {alpha.shape[0]}')\n",
    "    for j in range(alpha.shape[1]):\n",
    "        alpha_val = alpha[i,j]\n",
    "        c_val_list = ts.find_c(alpha_val)\n",
    "        temp_w_vals = c_val_list * alpha_val\n",
    "        temp_w_vals[np.isnan(np.abs(temp_w_vals))] = -1e10-1j*1e10\n",
    "        temp_w_vals[np.isinf(np.abs(temp_w_vals))] = -1e10-1j*1e10\n",
    "        temp_w_vals[np.abs(temp_w_vals) > max_threshold] = -1e10-1j*1e10\n",
    "        temp_w_vals = temp_w_vals[temp_w_vals != 0 + 0j]\n",
    "        if len(temp_w_vals) == 0:\n",
    "            temp_max_w_val_imag = np.array([0.0])\n",
    "        else:\n",
    "            temp_max_w_val_imag = np.max(np.imag(temp_w_vals)) \n",
    "        max_w_val_idx = np.argmax(np.imag(temp_w_vals))\n",
    "        w_vals[i,j] = temp_w_vals[max_w_val_idx]\n",
    "        w_vals_imag[i,j] = np.imag(w_vals[i,j])"
   ]
  },
  {
   "cell_type": "markdown",
   "metadata": {},
   "source": [
    "Contour field plot of $\\max(w_{i})$ on the complex frequency plane"
   ]
  },
  {
   "cell_type": "code",
   "execution_count": 186,
   "metadata": {},
   "outputs": [
    {
     "ename": "TypeError",
     "evalue": "Input z must be 2D, not 1D",
     "output_type": "error",
     "traceback": [
      "\u001b[31m---------------------------------------------------------------------------\u001b[39m",
      "\u001b[31mTypeError\u001b[39m                                 Traceback (most recent call last)",
      "\u001b[36mCell\u001b[39m\u001b[36m \u001b[39m\u001b[32mIn[186]\u001b[39m\u001b[32m, line 6\u001b[39m\n\u001b[32m      4\u001b[39m cbar = plt.colorbar(cs)\n\u001b[32m      5\u001b[39m cs.set_clim(-\u001b[32m15\u001b[39m, \u001b[32m15\u001b[39m)\n\u001b[32m----> \u001b[39m\u001b[32m6\u001b[39m \u001b[43max\u001b[49m\u001b[43m.\u001b[49m\u001b[43mcontour\u001b[49m\u001b[43m(\u001b[49m\u001b[43malpha_R\u001b[49m\u001b[43m,\u001b[49m\u001b[43m \u001b[49m\u001b[43malpha_I\u001b[49m\u001b[43m,\u001b[49m\u001b[43m \u001b[49m\u001b[43mnp\u001b[49m\u001b[43m.\u001b[49m\u001b[43mimag\u001b[49m\u001b[43m(\u001b[49m\u001b[43mw_vals\u001b[49m\u001b[43m)\u001b[49m\u001b[43m,\u001b[49m\u001b[43m \u001b[49m\u001b[43mlevels\u001b[49m\u001b[43m=\u001b[49m\u001b[32;43m100\u001b[39;49m\u001b[43m,\u001b[49m\u001b[43m \u001b[49m\u001b[43mcolors\u001b[49m\u001b[43m=\u001b[49m\u001b[33;43m'\u001b[39;49m\u001b[33;43mblack\u001b[39;49m\u001b[33;43m'\u001b[39;49m\u001b[43m,\u001b[49m\u001b[43m \u001b[49m\u001b[43mlinewidths\u001b[49m\u001b[43m=\u001b[49m\u001b[32;43m0.5\u001b[39;49m\u001b[43m)\u001b[49m\n\u001b[32m      7\u001b[39m ax.contour(alpha_R, alpha_I, np.real(w_vals), levels=\u001b[32m100\u001b[39m, colors=\u001b[33m'\u001b[39m\u001b[33mgray\u001b[39m\u001b[33m'\u001b[39m, linewidths=\u001b[32m0.5\u001b[39m)\n\u001b[32m      8\u001b[39m \u001b[38;5;66;03m# set colormap to jet\u001b[39;00m\n",
      "\u001b[36mFile \u001b[39m\u001b[32m~\\AppData\\Local\\Packages\\PythonSoftwareFoundation.Python.3.12_qbz5n2kfra8p0\\LocalCache\\local-packages\\Python312\\site-packages\\matplotlib\\__init__.py:1521\u001b[39m, in \u001b[36m_preprocess_data.<locals>.inner\u001b[39m\u001b[34m(ax, data, *args, **kwargs)\u001b[39m\n\u001b[32m   1518\u001b[39m \u001b[38;5;129m@functools\u001b[39m.wraps(func)\n\u001b[32m   1519\u001b[39m \u001b[38;5;28;01mdef\u001b[39;00m\u001b[38;5;250m \u001b[39m\u001b[34minner\u001b[39m(ax, *args, data=\u001b[38;5;28;01mNone\u001b[39;00m, **kwargs):\n\u001b[32m   1520\u001b[39m     \u001b[38;5;28;01mif\u001b[39;00m data \u001b[38;5;129;01mis\u001b[39;00m \u001b[38;5;28;01mNone\u001b[39;00m:\n\u001b[32m-> \u001b[39m\u001b[32m1521\u001b[39m         \u001b[38;5;28;01mreturn\u001b[39;00m \u001b[43mfunc\u001b[49m\u001b[43m(\u001b[49m\n\u001b[32m   1522\u001b[39m \u001b[43m            \u001b[49m\u001b[43max\u001b[49m\u001b[43m,\u001b[49m\n\u001b[32m   1523\u001b[39m \u001b[43m            \u001b[49m\u001b[43m*\u001b[49m\u001b[38;5;28;43mmap\u001b[39;49m\u001b[43m(\u001b[49m\u001b[43mcbook\u001b[49m\u001b[43m.\u001b[49m\u001b[43msanitize_sequence\u001b[49m\u001b[43m,\u001b[49m\u001b[43m \u001b[49m\u001b[43margs\u001b[49m\u001b[43m)\u001b[49m\u001b[43m,\u001b[49m\n\u001b[32m   1524\u001b[39m \u001b[43m            \u001b[49m\u001b[43m*\u001b[49m\u001b[43m*\u001b[49m\u001b[43m{\u001b[49m\u001b[43mk\u001b[49m\u001b[43m:\u001b[49m\u001b[43m \u001b[49m\u001b[43mcbook\u001b[49m\u001b[43m.\u001b[49m\u001b[43msanitize_sequence\u001b[49m\u001b[43m(\u001b[49m\u001b[43mv\u001b[49m\u001b[43m)\u001b[49m\u001b[43m \u001b[49m\u001b[38;5;28;43;01mfor\u001b[39;49;00m\u001b[43m \u001b[49m\u001b[43mk\u001b[49m\u001b[43m,\u001b[49m\u001b[43m \u001b[49m\u001b[43mv\u001b[49m\u001b[43m \u001b[49m\u001b[38;5;129;43;01min\u001b[39;49;00m\u001b[43m \u001b[49m\u001b[43mkwargs\u001b[49m\u001b[43m.\u001b[49m\u001b[43mitems\u001b[49m\u001b[43m(\u001b[49m\u001b[43m)\u001b[49m\u001b[43m}\u001b[49m\u001b[43m)\u001b[49m\n\u001b[32m   1526\u001b[39m     bound = new_sig.bind(ax, *args, **kwargs)\n\u001b[32m   1527\u001b[39m     auto_label = (bound.arguments.get(label_namer)\n\u001b[32m   1528\u001b[39m                   \u001b[38;5;129;01mor\u001b[39;00m bound.kwargs.get(label_namer))\n",
      "\u001b[36mFile \u001b[39m\u001b[32m~\\AppData\\Local\\Packages\\PythonSoftwareFoundation.Python.3.12_qbz5n2kfra8p0\\LocalCache\\local-packages\\Python312\\site-packages\\matplotlib\\axes\\_axes.py:6742\u001b[39m, in \u001b[36mAxes.contour\u001b[39m\u001b[34m(self, *args, **kwargs)\u001b[39m\n\u001b[32m   6731\u001b[39m \u001b[38;5;250m\u001b[39m\u001b[33;03m\"\"\"\u001b[39;00m\n\u001b[32m   6732\u001b[39m \u001b[33;03mPlot contour lines.\u001b[39;00m\n\u001b[32m   6733\u001b[39m \n\u001b[32m   (...)\u001b[39m\u001b[32m   6739\u001b[39m \u001b[33;03m%(contour_doc)s\u001b[39;00m\n\u001b[32m   6740\u001b[39m \u001b[33;03m\"\"\"\u001b[39;00m\n\u001b[32m   6741\u001b[39m kwargs[\u001b[33m'\u001b[39m\u001b[33mfilled\u001b[39m\u001b[33m'\u001b[39m] = \u001b[38;5;28;01mFalse\u001b[39;00m\n\u001b[32m-> \u001b[39m\u001b[32m6742\u001b[39m contours = \u001b[43mmcontour\u001b[49m\u001b[43m.\u001b[49m\u001b[43mQuadContourSet\u001b[49m\u001b[43m(\u001b[49m\u001b[38;5;28;43mself\u001b[39;49m\u001b[43m,\u001b[49m\u001b[43m \u001b[49m\u001b[43m*\u001b[49m\u001b[43margs\u001b[49m\u001b[43m,\u001b[49m\u001b[43m \u001b[49m\u001b[43m*\u001b[49m\u001b[43m*\u001b[49m\u001b[43mkwargs\u001b[49m\u001b[43m)\u001b[49m\n\u001b[32m   6743\u001b[39m \u001b[38;5;28mself\u001b[39m._request_autoscale_view()\n\u001b[32m   6744\u001b[39m \u001b[38;5;28;01mreturn\u001b[39;00m contours\n",
      "\u001b[36mFile \u001b[39m\u001b[32m~\\AppData\\Local\\Packages\\PythonSoftwareFoundation.Python.3.12_qbz5n2kfra8p0\\LocalCache\\local-packages\\Python312\\site-packages\\matplotlib\\contour.py:708\u001b[39m, in \u001b[36mContourSet.__init__\u001b[39m\u001b[34m(self, ax, levels, filled, linewidths, linestyles, hatches, alpha, origin, extent, cmap, colors, norm, vmin, vmax, colorizer, extend, antialiased, nchunk, locator, transform, negative_linestyles, clip_path, *args, **kwargs)\u001b[39m\n\u001b[32m    704\u001b[39m \u001b[38;5;28;01mif\u001b[39;00m \u001b[38;5;28mself\u001b[39m.negative_linestyles \u001b[38;5;129;01mis\u001b[39;00m \u001b[38;5;28;01mNone\u001b[39;00m:\n\u001b[32m    705\u001b[39m     \u001b[38;5;28mself\u001b[39m.negative_linestyles = \\\n\u001b[32m    706\u001b[39m         mpl.rcParams[\u001b[33m'\u001b[39m\u001b[33mcontour.negative_linestyle\u001b[39m\u001b[33m'\u001b[39m]\n\u001b[32m--> \u001b[39m\u001b[32m708\u001b[39m kwargs = \u001b[38;5;28;43mself\u001b[39;49m\u001b[43m.\u001b[49m\u001b[43m_process_args\u001b[49m\u001b[43m(\u001b[49m\u001b[43m*\u001b[49m\u001b[43margs\u001b[49m\u001b[43m,\u001b[49m\u001b[43m \u001b[49m\u001b[43m*\u001b[49m\u001b[43m*\u001b[49m\u001b[43mkwargs\u001b[49m\u001b[43m)\u001b[49m\n\u001b[32m    709\u001b[39m \u001b[38;5;28mself\u001b[39m._process_levels()\n\u001b[32m    711\u001b[39m \u001b[38;5;28mself\u001b[39m._extend_min = \u001b[38;5;28mself\u001b[39m.extend \u001b[38;5;129;01min\u001b[39;00m [\u001b[33m'\u001b[39m\u001b[33mmin\u001b[39m\u001b[33m'\u001b[39m, \u001b[33m'\u001b[39m\u001b[33mboth\u001b[39m\u001b[33m'\u001b[39m]\n",
      "\u001b[36mFile \u001b[39m\u001b[32m~\\AppData\\Local\\Packages\\PythonSoftwareFoundation.Python.3.12_qbz5n2kfra8p0\\LocalCache\\local-packages\\Python312\\site-packages\\matplotlib\\contour.py:1326\u001b[39m, in \u001b[36mQuadContourSet._process_args\u001b[39m\u001b[34m(self, corner_mask, algorithm, *args, **kwargs)\u001b[39m\n\u001b[32m   1323\u001b[39m         corner_mask = mpl.rcParams[\u001b[33m'\u001b[39m\u001b[33mcontour.corner_mask\u001b[39m\u001b[33m'\u001b[39m]\n\u001b[32m   1324\u001b[39m \u001b[38;5;28mself\u001b[39m._corner_mask = corner_mask\n\u001b[32m-> \u001b[39m\u001b[32m1326\u001b[39m x, y, z = \u001b[38;5;28;43mself\u001b[39;49m\u001b[43m.\u001b[49m\u001b[43m_contour_args\u001b[49m\u001b[43m(\u001b[49m\u001b[43margs\u001b[49m\u001b[43m,\u001b[49m\u001b[43m \u001b[49m\u001b[43mkwargs\u001b[49m\u001b[43m)\u001b[49m\n\u001b[32m   1328\u001b[39m contour_generator = contourpy.contour_generator(\n\u001b[32m   1329\u001b[39m     x, y, z, name=\u001b[38;5;28mself\u001b[39m._algorithm, corner_mask=\u001b[38;5;28mself\u001b[39m._corner_mask,\n\u001b[32m   1330\u001b[39m     line_type=contourpy.LineType.SeparateCode,\n\u001b[32m   1331\u001b[39m     fill_type=contourpy.FillType.OuterCode,\n\u001b[32m   1332\u001b[39m     chunk_size=\u001b[38;5;28mself\u001b[39m.nchunk)\n\u001b[32m   1334\u001b[39m t = \u001b[38;5;28mself\u001b[39m.get_transform()\n",
      "\u001b[36mFile \u001b[39m\u001b[32m~\\AppData\\Local\\Packages\\PythonSoftwareFoundation.Python.3.12_qbz5n2kfra8p0\\LocalCache\\local-packages\\Python312\\site-packages\\matplotlib\\contour.py:1366\u001b[39m, in \u001b[36mQuadContourSet._contour_args\u001b[39m\u001b[34m(self, args, kwargs)\u001b[39m\n\u001b[32m   1364\u001b[39m \u001b[38;5;28;01melif\u001b[39;00m \u001b[32m2\u001b[39m < nargs <= \u001b[32m4\u001b[39m:\n\u001b[32m   1365\u001b[39m     x, y, z_orig, *args = args\n\u001b[32m-> \u001b[39m\u001b[32m1366\u001b[39m     x, y, z = \u001b[38;5;28;43mself\u001b[39;49m\u001b[43m.\u001b[49m\u001b[43m_check_xyz\u001b[49m\u001b[43m(\u001b[49m\u001b[43mx\u001b[49m\u001b[43m,\u001b[49m\u001b[43m \u001b[49m\u001b[43my\u001b[49m\u001b[43m,\u001b[49m\u001b[43m \u001b[49m\u001b[43mz_orig\u001b[49m\u001b[43m,\u001b[49m\u001b[43m \u001b[49m\u001b[43mkwargs\u001b[49m\u001b[43m)\u001b[49m\n\u001b[32m   1368\u001b[39m \u001b[38;5;28;01melse\u001b[39;00m:\n\u001b[32m   1369\u001b[39m     \u001b[38;5;28;01mraise\u001b[39;00m _api.nargs_error(fn, takes=\u001b[33m\"\u001b[39m\u001b[33mfrom 1 to 4\u001b[39m\u001b[33m\"\u001b[39m, given=nargs)\n",
      "\u001b[36mFile \u001b[39m\u001b[32m~\\AppData\\Local\\Packages\\PythonSoftwareFoundation.Python.3.12_qbz5n2kfra8p0\\LocalCache\\local-packages\\Python312\\site-packages\\matplotlib\\contour.py:1392\u001b[39m, in \u001b[36mQuadContourSet._check_xyz\u001b[39m\u001b[34m(self, x, y, z, kwargs)\u001b[39m\n\u001b[32m   1389\u001b[39m z = ma.asarray(z)\n\u001b[32m   1391\u001b[39m \u001b[38;5;28;01mif\u001b[39;00m z.ndim != \u001b[32m2\u001b[39m:\n\u001b[32m-> \u001b[39m\u001b[32m1392\u001b[39m     \u001b[38;5;28;01mraise\u001b[39;00m \u001b[38;5;167;01mTypeError\u001b[39;00m(\u001b[33mf\u001b[39m\u001b[33m\"\u001b[39m\u001b[33mInput z must be 2D, not \u001b[39m\u001b[38;5;132;01m{\u001b[39;00mz.ndim\u001b[38;5;132;01m}\u001b[39;00m\u001b[33mD\u001b[39m\u001b[33m\"\u001b[39m)\n\u001b[32m   1393\u001b[39m \u001b[38;5;28;01mif\u001b[39;00m z.shape[\u001b[32m0\u001b[39m] < \u001b[32m2\u001b[39m \u001b[38;5;129;01mor\u001b[39;00m z.shape[\u001b[32m1\u001b[39m] < \u001b[32m2\u001b[39m:\n\u001b[32m   1394\u001b[39m     \u001b[38;5;28;01mraise\u001b[39;00m \u001b[38;5;167;01mTypeError\u001b[39;00m(\u001b[33mf\u001b[39m\u001b[33m\"\u001b[39m\u001b[33mInput z must be at least a (2, 2) shaped array, \u001b[39m\u001b[33m\"\u001b[39m\n\u001b[32m   1395\u001b[39m                     \u001b[33mf\u001b[39m\u001b[33m\"\u001b[39m\u001b[33mbut has shape \u001b[39m\u001b[38;5;132;01m{\u001b[39;00mz.shape\u001b[38;5;132;01m}\u001b[39;00m\u001b[33m\"\u001b[39m)\n",
      "\u001b[31mTypeError\u001b[39m: Input z must be 2D, not 1D"
     ]
    },
    {
     "data": {
      "image/png": "[encoded data removed]",
      "text/plain": [
       "<Figure size 800x600 with 2 Axes>"
      ]
     },
     "metadata": {},
     "output_type": "display_data"
    }
   ],
   "source": [
    "plt.close()\n",
    "fig, ax = plt.subplots(figsize=(8, 6))\n",
    "cs = ax.contourf(alpha_R, alpha_I, np.real(w_vals_imag), levels=250)\n",
    "cbar = plt.colorbar(cs)\n",
    "cs.set_clim(-15, 15)\n",
    "ax.contour(alpha_R, alpha_I, np.imag(w_vals), levels=100, colors='black', linewidths=0.5)\n",
    "ax.contour(alpha_R, alpha_I, np.real(w_vals), levels=100, colors='gray', linewidths=0.5)\n",
    "# set colormap to jet\n",
    "cs.set_cmap('gray')\n",
    "ax.set_xlabel('$k_r$')\n",
    "ax.set_ylabel('$k_i$')\n",
    "#ax.set_xlim(0, 4)\n",
    "#ax.set_ylim(-4, 4)\n",
    "plt.ion()\n",
    "plt.show()"
   ]
  },
  {
   "cell_type": "markdown",
   "metadata": {},
   "source": [
    "Find the minimum absolute value of $\\partial D/\\partial k$:"
   ]
  },
  {
   "cell_type": "code",
   "execution_count": 177,
   "metadata": {},
   "outputs": [
    {
     "name": "stdout",
     "output_type": "stream",
     "text": [
      "(200, 101)\n",
      "(200, 101)\n",
      "Row 1 of 200\n",
      "Row 2 of 200\n",
      "Row 3 of 200\n",
      "Row 4 of 200\n",
      "Row 5 of 200\n",
      "Row 6 of 200\n",
      "Row 7 of 200\n",
      "Row 8 of 200\n",
      "Row 9 of 200\n",
      "Row 10 of 200\n",
      "Row 11 of 200\n",
      "Row 12 of 200\n",
      "Row 13 of 200\n",
      "Row 14 of 200\n",
      "Row 15 of 200\n",
      "Row 16 of 200\n",
      "Row 17 of 200\n",
      "Row 18 of 200\n",
      "Row 19 of 200\n",
      "Row 20 of 200\n",
      "Row 21 of 200\n",
      "Row 22 of 200\n",
      "Row 23 of 200\n",
      "Row 24 of 200\n",
      "Row 25 of 200\n",
      "Row 26 of 200\n",
      "Row 27 of 200\n",
      "Row 28 of 200\n",
      "Row 29 of 200\n",
      "Row 30 of 200\n",
      "Row 31 of 200\n",
      "Row 32 of 200\n",
      "Row 33 of 200\n",
      "Row 34 of 200\n",
      "Row 35 of 200\n",
      "Row 36 of 200\n",
      "Row 37 of 200\n",
      "Row 38 of 200\n",
      "Row 39 of 200\n",
      "Row 40 of 200\n",
      "Row 41 of 200\n",
      "Row 42 of 200\n",
      "Row 43 of 200\n",
      "Row 44 of 200\n",
      "Row 45 of 200\n",
      "Row 46 of 200\n",
      "Row 47 of 200\n",
      "Row 48 of 200\n",
      "Row 49 of 200\n",
      "Row 50 of 200\n",
      "Row 51 of 200\n",
      "Row 52 of 200\n",
      "Row 53 of 200\n",
      "Row 54 of 200\n",
      "Row 55 of 200\n",
      "Row 56 of 200\n",
      "Row 57 of 200\n",
      "Row 58 of 200\n",
      "Row 59 of 200\n",
      "Row 60 of 200\n",
      "Row 61 of 200\n",
      "Row 62 of 200\n",
      "Row 63 of 200\n",
      "Row 64 of 200\n",
      "Row 65 of 200\n",
      "Row 66 of 200\n",
      "Row 67 of 200\n",
      "Row 68 of 200\n",
      "Row 69 of 200\n",
      "Row 70 of 200\n",
      "Row 71 of 200\n",
      "Row 72 of 200\n",
      "Row 73 of 200\n",
      "Row 74 of 200\n",
      "Row 75 of 200\n",
      "Row 76 of 200\n",
      "Row 77 of 200\n",
      "Row 78 of 200\n",
      "Row 79 of 200\n",
      "Row 80 of 200\n",
      "Row 81 of 200\n",
      "Row 82 of 200\n",
      "Row 83 of 200\n",
      "Row 84 of 200\n",
      "Row 85 of 200\n",
      "Row 86 of 200\n",
      "Row 87 of 200\n",
      "Row 88 of 200\n",
      "Row 89 of 200\n",
      "Row 90 of 200\n",
      "Row 91 of 200\n",
      "Row 92 of 200\n",
      "Row 93 of 200\n",
      "Row 94 of 200\n",
      "Row 95 of 200\n",
      "Row 96 of 200\n",
      "Row 97 of 200\n",
      "Row 98 of 200\n",
      "Row 99 of 200\n",
      "Row 100 of 200\n",
      "Row 101 of 200\n",
      "Row 102 of 200\n",
      "Row 103 of 200\n",
      "Row 104 of 200\n",
      "Row 105 of 200\n",
      "Row 106 of 200\n",
      "Row 107 of 200\n",
      "Row 108 of 200\n",
      "Row 109 of 200\n",
      "Row 110 of 200\n",
      "Row 111 of 200\n",
      "Row 112 of 200\n",
      "Row 113 of 200\n",
      "Row 114 of 200\n",
      "Row 115 of 200\n",
      "Row 116 of 200\n",
      "Row 117 of 200\n",
      "Row 118 of 200\n",
      "Row 119 of 200\n",
      "Row 120 of 200\n",
      "Row 121 of 200\n",
      "Row 122 of 200\n",
      "Row 123 of 200\n",
      "Row 124 of 200\n",
      "Row 125 of 200\n",
      "Row 126 of 200\n",
      "Row 127 of 200\n",
      "Row 128 of 200\n",
      "Row 129 of 200\n",
      "Row 130 of 200\n",
      "Row 131 of 200\n",
      "Row 132 of 200\n",
      "Row 133 of 200\n",
      "Row 134 of 200\n",
      "Row 135 of 200\n",
      "Row 136 of 200\n",
      "Row 137 of 200\n",
      "Row 138 of 200\n",
      "Row 139 of 200\n",
      "Row 140 of 200\n",
      "Row 141 of 200\n",
      "Row 142 of 200\n",
      "Row 143 of 200\n",
      "Row 144 of 200\n",
      "Row 145 of 200\n",
      "Row 146 of 200\n",
      "Row 147 of 200\n",
      "Row 148 of 200\n",
      "Row 149 of 200\n",
      "Row 150 of 200\n",
      "Row 151 of 200\n",
      "Row 152 of 200\n",
      "Row 153 of 200\n",
      "Row 154 of 200\n",
      "Row 155 of 200\n",
      "Row 156 of 200\n",
      "Row 157 of 200\n",
      "Row 158 of 200\n",
      "Row 159 of 200\n",
      "Row 160 of 200\n",
      "Row 161 of 200\n",
      "Row 162 of 200\n",
      "Row 163 of 200\n",
      "Row 164 of 200\n",
      "Row 165 of 200\n",
      "Row 166 of 200\n",
      "Row 167 of 200\n",
      "Row 168 of 200\n",
      "Row 169 of 200\n",
      "Row 170 of 200\n",
      "Row 171 of 200\n",
      "Row 172 of 200\n",
      "Row 173 of 200\n",
      "Row 174 of 200\n",
      "Row 175 of 200\n",
      "Row 176 of 200\n",
      "Row 177 of 200\n",
      "Row 178 of 200\n",
      "Row 179 of 200\n",
      "Row 180 of 200\n",
      "Row 181 of 200\n",
      "Row 182 of 200\n",
      "Row 183 of 200\n",
      "Row 184 of 200\n",
      "Row 185 of 200\n",
      "Row 186 of 200\n",
      "Row 187 of 200\n",
      "Row 188 of 200\n",
      "Row 189 of 200\n",
      "Row 190 of 200\n",
      "Row 191 of 200\n",
      "Row 192 of 200\n",
      "Row 193 of 200\n",
      "Row 194 of 200\n",
      "Row 195 of 200\n",
      "Row 196 of 200\n",
      "Row 197 of 200\n",
      "Row 198 of 200\n",
      "Row 199 of 200\n",
      "Row 200 of 200\n"
     ]
    }
   ],
   "source": [
    "print(w_vals_imag.shape)\n",
    "print(alpha.shape)\n",
    "deriv_vals = np.zeros_like(alpha)\n",
    "deriv_val_set = {'c': f'{sf.w}/{sf.alpha}'}\n",
    "deriv_disp_sub1 = deriv_disp.subs(deriv_val_set)\n",
    "for i in range(alpha.shape[0]):\n",
    "    print(f'Row {i+1} of {alpha.shape[0]}')\n",
    "    for j in range(alpha.shape[1]):\n",
    "        deriv_disp_sub2 = deriv_disp_sub1.subs({sf.alpha: alpha[i,j], sf.w: w_vals[i,j]})\n",
    "        deriv_vals[i,j] = deriv_disp_sub2.evalf()"
   ]
  },
  {
   "cell_type": "code",
   "execution_count": 178,
   "metadata": {},
   "outputs": [
    {
     "data": {
      "image/png": "[encoded data removed]",
      "text/plain": [
       "<Figure size 800x600 with 2 Axes>"
      ]
     },
     "metadata": {},
     "output_type": "display_data"
    }
   ],
   "source": [
    "fig, ax = plt.subplots(figsize=(8, 6))\n",
    "cs = ax.contourf(alpha_R, alpha_I, np.abs(deriv_vals), levels=250)\n",
    "cbar = plt.colorbar(cs)\n",
    "cs.set_clim(0, 8)\n",
    "ax.contour(alpha_R, alpha_I, np.abs(deriv_vals), levels=100, colors='black', linewidths=0.5)\n",
    "# set colormap to jet\n",
    "cs.set_cmap('gray')\n",
    "ax.set_xlabel('$k_r$')\n",
    "ax.set_ylabel('$k_i$')\n",
    "ax.set_xlim(0, 3.5)\n",
    "ax.set_ylim(-4, 4)\n",
    "plt.ion()\n",
    "plt.show()"
   ]
  },
  {
   "cell_type": "code",
   "execution_count": 179,
   "metadata": {},
   "outputs": [
    {
     "name": "stdout",
     "output_type": "stream",
     "text": [
      "100, 0\n",
      "0.0\n",
      "-3.552713678800501e-14\n",
      "(-6.718097406627341e-15-2.6396869161608504e-22j)\n",
      "6.718097406627346e-15\n"
     ]
    }
   ],
   "source": [
    "res_i, res_j = np.unravel_index(np.argmin(np.abs(deriv_vals)), deriv_vals.shape)\n",
    "print(f'{res_i}, {res_j}')\n",
    "print(alpha_R[res_i, res_j])\n",
    "print(alpha_I[res_i, res_j])\n",
    "print(deriv_vals[res_i, res_j])\n",
    "print(abs(deriv_vals[res_i, res_j]))"
   ]
  },
  {
   "cell_type": "code",
   "execution_count": 180,
   "metadata": {},
   "outputs": [],
   "source": [
    "# save data as mat file\n",
    "import scipy.io as sio\n",
    "sio.savemat('C:\\\\Users\\\\tvivek\\\\Desktop\\\\w_vals_imag.mat', {'w_vals': w_vals, 'alpha_R': alpha_R, 'alpha_I': alpha_I})"
   ]
  },
  {
   "cell_type": "code",
   "execution_count": 181,
   "metadata": {},
   "outputs": [
    {
     "data": {
      "text/plain": [
       "<Figure size 640x480 with 0 Axes>"
      ]
     },
     "metadata": {},
     "output_type": "display_data"
    }
   ],
   "source": [
    "from matplotlib.widgets import Cursor\n",
    "# Add cursor for better pointing\n",
    "cursor = Cursor(ax, useblit=True, color='red', linewidth=1)\n",
    "\n",
    "# Create annotation that will show the value\n",
    "annot = ax.annotate(\"\", xy=(0,0), xytext=(20,20), \n",
    "                   textcoords=\"offset points\",\n",
    "                   bbox=dict(boxstyle=\"round\", fc=\"w\"),\n",
    "                   arrowprops=dict(arrowstyle=\"->\"))\n",
    "annot.set_visible(False)\n",
    "\n",
    "def onclick(event):\n",
    "    if event.inaxes != ax:\n",
    "        return\n",
    "    \n",
    "    # Hide previous annotation\n",
    "    annot.set_visible(False)\n",
    "    \n",
    "    # Get clicked coordinates\n",
    "    x_click, y_click = event.xdata, event.ydata\n",
    "    \n",
    "    # Find closest data point (since we can't interpolate from contour directly)\n",
    "    idx_x = np.argmin(np.abs(x - x_click))\n",
    "    idx_y = np.argmin(np.abs(y - y_click))\n",
    "    z_value = Z[idx_y, idx_x]  # Note y comes first in 2D arrays\n",
    "    \n",
    "    # Update annotation\n",
    "    annot.xy = (x_click, y_click)\n",
    "    annot.set_text(f\"Value: {z_value:.3f}\")\n",
    "    annot.set_visible(True)\n",
    "    \n",
    "    # Mark the clicked point\n",
    "    if hasattr(onclick, 'marker'):\n",
    "        onclick.marker.remove()\n",
    "    onclick.marker = ax.plot(x_click, y_click, 'ro')[0]\n",
    "    \n",
    "    fig.canvas.draw_idle()\n",
    "\n",
    "# Connect the click event\n",
    "fig.canvas.mpl_connect('button_press_event', onclick)\n",
    "plt.tight_layout()\n",
    "plt.show()"
   ]
  },
  {
   "cell_type": "markdown",
   "metadata": {},
   "source": [
    "The biggest problem that I'm facing right now is the uncertainty of not knowing whether the dispersion relation that I have is actually correct or wrong. That can be partially (I think 80%) rectified if I'm able to match the existing results of temporal stability from literature with the result that I'm getting with the dispersion relation that I derived. So here we do exactly that: "
   ]
  },
  {
   "cell_type": "code",
   "execution_count": 182,
   "metadata": {},
   "outputs": [
    {
     "name": "stderr",
     "output_type": "stream",
     "text": [
      "<>:17: SyntaxWarning: invalid escape sequence '\\o'\n",
      "<>:17: SyntaxWarning: invalid escape sequence '\\o'\n",
      "C:\\Users\\tvivek\\AppData\\Local\\Temp\\ipykernel_8204\\2256976604.py:17: SyntaxWarning: invalid escape sequence '\\o'\n",
      "  plt.ylabel('$\\omega_i$')\n"
     ]
    },
    {
     "data": {
      "text/plain": [
       "Text(0, 0.5, '$\\\\omega_i$')"
      ]
     },
     "execution_count": 182,
     "metadata": {},
     "output_type": "execute_result"
    },
    {
     "data": {
      "image/png": "[encoded data removed]",
      "text/plain": [
       "<Figure size 640x480 with 1 Axes>"
      ]
     },
     "metadata": {},
     "output_type": "display_data"
    }
   ],
   "source": [
    "alpha_r_ts = np.arange(0.01, 8.01, 0.25)\n",
    "c_vals = []\n",
    "for alpha_val in alpha_r_ts:\n",
    "    c_val_list = ts.find_c(alpha_val)\n",
    "    c_val_list[np.isinf(np.abs(c_val_list))] = -1000000000\n",
    "    c_vals.append(np.max(np.imag(c_val_list)))\n",
    "\n",
    "c_vals = np.array(c_vals)\n",
    "w_vals = c_vals * alpha_r_ts\n",
    "\n",
    "plt.ion()\n",
    "plt.figure()\n",
    "#plt.plot(x_D, w0i, color='blue', linestyle='--')\n",
    "plt.plot(alpha_r_ts, w_vals, color='blue')\n",
    "plt.scatter(alpha_r_ts, w_vals, color='blue', marker='x', s=50, label='Varicose mode')\n",
    "plt.xlabel('$k_r$')\n",
    "plt.ylabel('$\\omega_i$')"
   ]
  },
  {
   "cell_type": "code",
   "execution_count": 183,
   "metadata": {},
   "outputs": [
    {
     "data": {
      "text/plain": [
       "(4,)"
      ]
     },
     "execution_count": 183,
     "metadata": {},
     "output_type": "execute_result"
    }
   ],
   "source": [
    "c_val_list.shape"
   ]
  }
 ],
 "metadata": {
  "kernelspec": {
   "display_name": "Python 3",
   "language": "python",
   "name": "python3"
  },
  "language_info": {
   "codemirror_mode": {
    "name": "ipython",
    "version": 3
   },
   "file_extension": ".py",
   "mimetype": "text/x-python",
   "name": "python",
   "nbconvert_exporter": "python",
   "pygments_lexer": "ipython3",
   "version": "3.12.10"
  }
 },
 "nbformat": 4,
 "nbformat_minor": 2
}
