{
 "cells": [
  {
   "cell_type": "markdown",
   "metadata": {},
   "source": [
    "We use a grid of complex wavenumber values. From the generalized eigenvalue problem for a  given complex wavenumber, we obtain the phase speed, from which we substitute back to get the complex frequency. We then plot the contour of the imaginary part of the complex frequency. This is a test script to check the functionality of the code.\n"
   ]
  },
  {
   "cell_type": "code",
   "execution_count": 1,
   "metadata": {},
   "outputs": [],
   "source": [
    "import os \n",
    "import sys\n",
    "m_path = os.getcwd()\n",
    "sys.path.append(m_path)\n",
    "\n",
    "# import all required modules:\n",
    "import sympy as sp\n",
    "import numpy as np\n",
    "import matplotlib.pyplot as plt\n",
    "from scipy.optimize import root\n",
    "#from mpmath import findroot\n",
    "from scipy.linalg import lu, solve_triangular, eig\n",
    "from numpy.linalg import cond\n",
    "\n",
    "from stream_functions import StreamFunctions\n",
    "from boundary_conditions import BoundaryConditions\n",
    "from temporal_stability import TemporalStability\n",
    "from two_equation_solver import *\n",
    "from claude1 import *"
   ]
  },
  {
   "cell_type": "markdown",
   "metadata": {},
   "source": [
    "Obtain the dispersion relation"
   ]
  },
  {
   "cell_type": "code",
   "execution_count": 2,
   "metadata": {},
   "outputs": [],
   "source": [
    "\n",
    "sf = StreamFunctions(n_wakes=1)\n",
    "bc = BoundaryConditions(sf)\n",
    "D  = bc.M_non_dim\n",
    "A = bc.A_non_dim\n",
    "B = bc.B_non_dim\n",
    "dispersion_relation = sp.simplify(sp.det(D))"
   ]
  },
  {
   "cell_type": "code",
   "execution_count": 3,
   "metadata": {},
   "outputs": [
    {
     "name": "stdout",
     "output_type": "stream",
     "text": [
      "\\left[\\begin{matrix}1 & - e^{- 0.5 \\alpha \\delta} & - e^{0.5 \\alpha \\delta} & 0\\\\0 & e^{0.5 \\alpha \\delta} & e^{- 0.5 \\alpha \\delta} & \\left(- s - e^{1.0 \\alpha \\left(D - \\delta\\right)}\\right) e^{- 0.5 \\alpha \\left(D - \\delta\\right)}\\\\- U_{ambient} \\alpha \\delta \\rho_{ambient} & \\rho_{ambient} \\left(U_{ambient} \\alpha \\delta + U_{ambient} - U_{wake}\\right) e^{- 0.5 \\alpha \\delta} & \\rho_{ambient} \\left(- U_{ambient} \\alpha \\delta + U_{ambient} - U_{wake}\\right) e^{0.5 \\alpha \\delta} & 0\\\\0 & \\rho_{ambient} \\left(- U_{ambient} - U_{wake} \\alpha \\delta + U_{wake}\\right) e^{0.5 \\alpha \\delta} & \\rho_{ambient} \\left(- U_{ambient} + U_{wake} \\alpha \\delta + U_{wake}\\right) e^{- 0.5 \\alpha \\delta} & U_{wake} \\alpha \\delta \\rho_{wake} \\left(s - e^{1.0 \\alpha \\left(D - \\delta\\right)}\\right) e^{- 0.5 \\alpha \\left(D - \\delta\\right)}\\end{matrix}\\right]\n",
      "\\left[\\begin{matrix}0 & 0 & 0 & 0\\\\0 & 0 & 0 & 0\\\\- \\alpha \\delta \\rho_{ambient} & \\alpha \\delta \\rho_{ambient} e^{- 0.5 \\alpha \\delta} & - \\alpha \\delta \\rho_{ambient} e^{0.5 \\alpha \\delta} & 0\\\\0 & - \\alpha \\delta \\rho_{ambient} e^{0.5 \\alpha \\delta} & \\alpha \\delta \\rho_{ambient} e^{- 0.5 \\alpha \\delta} & \\alpha \\delta \\rho_{wake} \\left(s - e^{1.0 \\alpha \\left(D - \\delta\\right)}\\right) e^{- 0.5 \\alpha \\left(D - \\delta\\right)}\\end{matrix}\\right]\n",
      "\\left[\\begin{matrix}1 & - e^{- 0.5 \\alpha \\delta} & - e^{0.5 \\alpha \\delta} & 0\\\\0 & e^{0.5 \\alpha \\delta} & e^{- 0.5 \\alpha \\delta} & \\left(- s e^{1.0 \\alpha \\left(\\delta - 1\\right)} - 1\\right) e^{- 0.5 \\alpha \\left(\\delta - 1\\right)}\\\\\\alpha \\delta \\left(\\Lambda + c - 1\\right) & \\left(- 2 \\Lambda - \\alpha \\delta \\left(\\Lambda + c - 1\\right)\\right) e^{- 0.5 \\alpha \\delta} & \\left(- 2 \\Lambda + \\alpha \\delta \\left(\\Lambda + c - 1\\right)\\right) e^{0.5 \\alpha \\delta} & 0\\\\0 & \\left(2 \\Lambda - \\alpha \\delta \\left(\\Lambda - c + 1\\right)\\right) e^{0.5 \\alpha \\delta} & \\left(2 \\Lambda + \\alpha \\delta \\left(\\Lambda - c + 1\\right)\\right) e^{- 0.5 \\alpha \\delta} & S \\alpha \\delta \\left(s e^{1.0 \\alpha \\left(\\delta - 1\\right)} - 1\\right) \\left(\\Lambda - c + 1\\right) e^{- 0.5 \\alpha \\left(\\delta - 1\\right)}\\end{matrix}\\right]\n"
     ]
    }
   ],
   "source": [
    "A_dim = bc.A\n",
    "B_dim = bc.B\n",
    "print(sp.latex(sp.simplify(A_dim)))\n",
    "print(sp.latex(sp.simplify(B_dim)))\n",
    "print(sp.latex(sp.simplify(D)))"
   ]
  },
  {
   "cell_type": "markdown",
   "metadata": {},
   "source": []
  },
  {
   "cell_type": "code",
   "execution_count": 4,
   "metadata": {},
   "outputs": [
    {
     "name": "stdout",
     "output_type": "stream",
     "text": [
      "A_non_dim\n",
      "\\left[\\begin{matrix}1 & - e^{- 0.5 \\alpha \\delta} & - e^{0.5 \\alpha \\delta} & 0\\\\0 & e^{0.5 \\alpha \\delta} & e^{- 0.5 \\alpha \\delta} & - s e^{- \\alpha \\left(0.5 - 0.5 \\delta\\right)} - e^{\\alpha \\left(0.5 - 0.5 \\delta\\right)}\\\\- \\alpha \\delta \\left(1 - \\Lambda\\right) & - \\delta \\left(\\frac{2 \\Lambda e^{- 0.5 \\alpha \\delta}}{\\delta} - \\alpha \\left(1 - \\Lambda\\right) e^{- 0.5 \\alpha \\delta}\\right) & - \\delta \\left(\\frac{2 \\Lambda e^{0.5 \\alpha \\delta}}{\\delta} + \\alpha \\left(1 - \\Lambda\\right) e^{0.5 \\alpha \\delta}\\right) & 0\\\\0 & \\delta \\left(\\frac{2 \\Lambda e^{0.5 \\alpha \\delta}}{\\delta} - \\alpha \\left(\\Lambda + 1\\right) e^{0.5 \\alpha \\delta}\\right) & \\delta \\left(\\frac{2 \\Lambda e^{- 0.5 \\alpha \\delta}}{\\delta} + \\alpha \\left(\\Lambda + 1\\right) e^{- 0.5 \\alpha \\delta}\\right) & - S \\delta \\left(\\Lambda + 1\\right) \\left(- \\alpha s e^{- \\alpha \\left(0.5 - 0.5 \\delta\\right)} + \\alpha e^{\\alpha \\left(0.5 - 0.5 \\delta\\right)}\\right)\\end{matrix}\\right]\n",
      "B_non_dim\n",
      "\\left[\\begin{matrix}0 & 0 & 0 & 0\\\\0 & 0 & 0 & 0\\\\- \\Lambda \\alpha \\delta - \\alpha \\delta \\left(1 - \\Lambda\\right) & \\delta \\left(\\Lambda \\alpha e^{- 0.5 \\alpha \\delta} + \\frac{2 \\Lambda e^{- 0.5 \\alpha \\delta}}{\\delta}\\right) - \\delta \\left(\\frac{2 \\Lambda e^{- 0.5 \\alpha \\delta}}{\\delta} - \\alpha \\left(1 - \\Lambda\\right) e^{- 0.5 \\alpha \\delta}\\right) & \\delta \\left(- \\Lambda \\alpha e^{0.5 \\alpha \\delta} + \\frac{2 \\Lambda e^{0.5 \\alpha \\delta}}{\\delta}\\right) - \\delta \\left(\\frac{2 \\Lambda e^{0.5 \\alpha \\delta}}{\\delta} + \\alpha \\left(1 - \\Lambda\\right) e^{0.5 \\alpha \\delta}\\right) & 0\\\\0 & - \\delta \\left(- \\Lambda \\alpha e^{0.5 \\alpha \\delta} + \\frac{2 \\Lambda e^{0.5 \\alpha \\delta}}{\\delta}\\right) + \\delta \\left(\\frac{2 \\Lambda e^{0.5 \\alpha \\delta}}{\\delta} - \\alpha \\left(\\Lambda + 1\\right) e^{0.5 \\alpha \\delta}\\right) & - \\delta \\left(\\Lambda \\alpha e^{- 0.5 \\alpha \\delta} + \\frac{2 \\Lambda e^{- 0.5 \\alpha \\delta}}{\\delta}\\right) + \\delta \\left(\\frac{2 \\Lambda e^{- 0.5 \\alpha \\delta}}{\\delta} + \\alpha \\left(\\Lambda + 1\\right) e^{- 0.5 \\alpha \\delta}\\right) & \\Lambda S \\delta \\left(- \\alpha s e^{- \\alpha \\left(0.5 - 0.5 \\delta\\right)} + \\alpha e^{\\alpha \\left(0.5 - 0.5 \\delta\\right)}\\right) - S \\delta \\left(\\Lambda + 1\\right) \\left(- \\alpha s e^{- \\alpha \\left(0.5 - 0.5 \\delta\\right)} + \\alpha e^{\\alpha \\left(0.5 - 0.5 \\delta\\right)}\\right)\\end{matrix}\\right]\n"
     ]
    }
   ],
   "source": [
    "print('A_non_dim')\n",
    "print(sp.latex(A))\n",
    "print('B_non_dim')\n",
    "print(sp.latex(B))"
   ]
  },
  {
   "cell_type": "markdown",
   "metadata": {},
   "source": [
    "Substitute the desired values"
   ]
  },
  {
   "cell_type": "code",
   "execution_count": 5,
   "metadata": {},
   "outputs": [],
   "source": [
    "#val_set = {'S': 0.2, 'Lambda': -3.1, 'delta': 0.1, 's':-1, 'c': f'{sf.w}/{sf.alpha}'}\n",
    "#val_set = {'S': 1.0, 'Lambda': -3.1, 'L': 0.0, 'delta': 0.1, 's':-1}\n",
    "val_set = {'S': 0.2, 'Lambda': -3.1, 'L': 0.0, 'delta': 0.1, 's':-1}\n",
    "#val_set = {'S': 1, 'Lambda': 0.9, 'L': 0.0, 'delta': 0.5, 's':-1}\n",
    "A_sub = A.subs(val_set)\n",
    "B_sub = B.subs(val_set)\n",
    "dispersion_relation_sub = dispersion_relation.subs(val_set)"
   ]
  },
  {
   "cell_type": "markdown",
   "metadata": {},
   "source": [
    "Form the derivative of the determinant equals $0$ equation"
   ]
  },
  {
   "cell_type": "code",
   "execution_count": 6,
   "metadata": {},
   "outputs": [
    {
     "name": "stdout",
     "output_type": "stream",
     "text": [
      "1.4 \\left(3.1 \\left(- 0.12 \\alpha c - 0.252 \\alpha - 6.2\\right) e^{- 1.25 \\alpha} - 3.1 \\left(- 0.08 \\alpha c - 0.168 \\alpha - 6.2\\right) e^{- 0.35 \\alpha} - \\left(0.008 \\alpha^{2} c^{2} - 0.016 \\alpha^{2} c - 0.06888 \\alpha^{2} - 0.372 \\alpha c + 3.0628 \\alpha - 19.22\\right) e^{- 1.05 \\alpha} + \\left(0.012 \\alpha^{2} c^{2} - 0.024 \\alpha^{2} c - 0.10332 \\alpha^{2} - 0.248 \\alpha c + 3.3232 \\alpha - 19.22\\right) e^{- 0.15 \\alpha}\\right) e^{0.7 \\alpha} + 2 \\left(3.1 \\left(- 0.12 c - 0.252\\right) e^{- 1.25 \\alpha} - 3.1 \\left(- 0.08 c - 0.168\\right) e^{- 0.35 \\alpha} - 3.875 \\left(- 0.12 \\alpha c - 0.252 \\alpha - 6.2\\right) e^{- 1.25 \\alpha} + 1.085 \\left(- 0.08 \\alpha c - 0.168 \\alpha - 6.2\\right) e^{- 0.35 \\alpha} - \\left(0.016 \\alpha c^{2} - 0.032 \\alpha c - 0.13776 \\alpha - 0.372 c + 3.0628\\right) e^{- 1.05 \\alpha} + \\left(0.024 \\alpha c^{2} - 0.048 \\alpha c - 0.20664 \\alpha - 0.248 c + 3.3232\\right) e^{- 0.15 \\alpha} + 1.05 \\left(0.008 \\alpha^{2} c^{2} - 0.016 \\alpha^{2} c - 0.06888 \\alpha^{2} - 0.372 \\alpha c + 3.0628 \\alpha - 19.22\\right) e^{- 1.05 \\alpha} - 0.15 \\left(0.012 \\alpha^{2} c^{2} - 0.024 \\alpha^{2} c - 0.10332 \\alpha^{2} - 0.248 \\alpha c + 3.3232 \\alpha - 19.22\\right) e^{- 0.15 \\alpha}\\right) e^{0.7 \\alpha}\n"
     ]
    }
   ],
   "source": [
    "deriv_disp = sp.diff(dispersion_relation_sub, sf.alpha)\n",
    "print(sp.latex(deriv_disp))"
   ]
  },
  {
   "cell_type": "markdown",
   "metadata": {},
   "source": [
    "Solve the generalized eigenvalue problem to obtain value for c for a grid of phase_speed $c$ values"
   ]
  },
  {
   "cell_type": "code",
   "execution_count": 27,
   "metadata": {},
   "outputs": [
    {
     "name": "stdout",
     "output_type": "stream",
     "text": [
      "Row 1 of 80\n"
     ]
    },
    {
     "name": "stderr",
     "output_type": "stream",
     "text": [
      "C:\\Users\\tvivek\\AppData\\Local\\Temp\\ipykernel_13420\\3227189066.py:15: RuntimeWarning: invalid value encountered in multiply\n",
      "  temp_w_vals = c_val_list * alpha_val\n"
     ]
    },
    {
     "name": "stdout",
     "output_type": "stream",
     "text": [
      "Row 2 of 80\n",
      "Row 3 of 80\n",
      "Row 4 of 80\n",
      "Row 5 of 80\n",
      "Row 6 of 80\n",
      "Row 7 of 80\n",
      "Row 8 of 80\n",
      "Row 9 of 80\n",
      "Row 10 of 80\n",
      "Row 11 of 80\n",
      "Row 12 of 80\n",
      "Row 13 of 80\n",
      "Row 14 of 80\n",
      "Row 15 of 80\n",
      "Row 16 of 80\n",
      "Row 17 of 80\n",
      "Row 18 of 80\n",
      "Row 19 of 80\n",
      "Row 20 of 80\n",
      "Row 21 of 80\n",
      "Row 22 of 80\n",
      "Row 23 of 80\n",
      "Row 24 of 80\n",
      "Row 25 of 80\n",
      "Row 26 of 80\n",
      "Row 27 of 80\n",
      "Row 28 of 80\n",
      "Row 29 of 80\n",
      "Row 30 of 80\n",
      "Row 31 of 80\n",
      "Row 32 of 80\n",
      "Row 33 of 80\n",
      "Row 34 of 80\n",
      "Row 35 of 80\n",
      "Row 36 of 80\n",
      "Row 37 of 80\n",
      "Row 38 of 80\n",
      "Row 39 of 80\n",
      "Row 40 of 80\n",
      "Row 41 of 80\n",
      "Row 42 of 80\n",
      "Row 43 of 80\n",
      "Row 44 of 80\n",
      "Row 45 of 80\n",
      "Row 46 of 80\n",
      "Row 47 of 80\n",
      "Row 48 of 80\n",
      "Row 49 of 80\n",
      "Row 50 of 80\n",
      "Row 51 of 80\n",
      "Row 52 of 80\n",
      "Row 53 of 80\n",
      "Row 54 of 80\n",
      "Row 55 of 80\n",
      "Row 56 of 80\n",
      "Row 57 of 80\n",
      "Row 58 of 80\n",
      "Row 59 of 80\n",
      "Row 60 of 80\n",
      "Row 61 of 80\n",
      "Row 62 of 80\n",
      "Row 63 of 80\n",
      "Row 64 of 80\n",
      "Row 65 of 80\n",
      "Row 66 of 80\n",
      "Row 67 of 80\n",
      "Row 68 of 80\n",
      "Row 69 of 80\n",
      "Row 70 of 80\n",
      "Row 71 of 80\n",
      "Row 72 of 80\n",
      "Row 73 of 80\n",
      "Row 74 of 80\n",
      "Row 75 of 80\n",
      "Row 76 of 80\n",
      "Row 77 of 80\n",
      "Row 78 of 80\n",
      "Row 79 of 80\n",
      "Row 80 of 80\n"
     ]
    }
   ],
   "source": [
    "ts = TemporalStability(sf, bc, val_set)\n",
    "max_threshold = 1e6\n",
    "alpha_r = np.arange(0,20.01,0.5)\n",
    "alpha_i = np.arange(-20,20,0.5)\n",
    "alpha_R, alpha_I = np.meshgrid(alpha_r, alpha_i)\n",
    "alpha = alpha_R + 1j * alpha_I\n",
    "w_vals_imag = np.zeros_like(alpha_I)\n",
    "w_vals = np.zeros_like(alpha)\n",
    "\n",
    "for i in range(alpha.shape[0]):\n",
    "    print(f'Row {i+1} of {alpha.shape[0]}')\n",
    "    for j in range(alpha.shape[1]):\n",
    "        alpha_val = alpha[i,j]\n",
    "        c_val_list, eigvecs = ts.find_c(alpha_val)\n",
    "        temp_w_vals = c_val_list * alpha_val\n",
    "        temp_w_vals[np.isnan(np.abs(temp_w_vals))] = -1e10-1j*1e10\n",
    "        temp_w_vals[np.isinf(np.abs(temp_w_vals))] = -1e10-1j*1e10\n",
    "        temp_w_vals[np.abs(temp_w_vals) > max_threshold] = -1e10-1j*1e10\n",
    "        temp_w_vals = temp_w_vals[temp_w_vals != 0 + 0j]\n",
    "        if len(temp_w_vals) == 0:\n",
    "            temp_max_w_val_imag = np.array([0.0])\n",
    "        else:\n",
    "            temp_max_w_val_imag = np.max(np.imag(temp_w_vals)) \n",
    "        max_w_val_idx = np.argmax(np.imag(temp_w_vals))\n",
    "        w_vals[i,j] = temp_w_vals[max_w_val_idx]\n",
    "        w_vals_imag[i,j] = np.imag(w_vals[i,j])"
   ]
  },
  {
   "cell_type": "code",
   "execution_count": 21,
   "metadata": {},
   "outputs": [
    {
     "data": {
      "text/plain": [
       "array([[78.68146709, 61.58897482, 51.85173766, ..., 41.6104094 ,\n",
       "        41.64490098, 41.67677686],\n",
       "       [65.72376155, 56.86174782, 49.83372894, ..., 40.52547475,\n",
       "        40.56437397, 40.60015334],\n",
       "       [54.35512637, 49.64035948, 45.2695605 , ..., 39.44384378,\n",
       "        39.48696694, 39.52646528],\n",
       "       ...,\n",
       "       [53.61312604, 56.45976319, 58.79618559, ..., 75.12111819,\n",
       "        75.19153591, 75.25560916],\n",
       "       [56.36715299, 59.52588171, 61.86651359, ..., 77.16096331,\n",
       "        77.23100628, 77.29486261],\n",
       "       [59.82523898, 63.47800501, 65.59601355, ..., 79.20749969,\n",
       "        79.2766584 , 79.33981763]], shape=(80, 41))"
      ]
     },
     "execution_count": 21,
     "metadata": {},
     "output_type": "execute_result"
    }
   ],
   "source": [
    "c_val_list\n",
    "w_vals_imag"
   ]
  },
  {
   "cell_type": "markdown",
   "metadata": {},
   "source": [
    "Contour field plot of $\\max(w_{i})$ on the complex frequency plane"
   ]
  },
  {
   "cell_type": "code",
   "execution_count": 29,
   "metadata": {},
   "outputs": [
    {
     "name": "stdout",
     "output_type": "stream",
     "text": [
      "79.33981763196377\n",
      "-10000000000.0\n",
      "90.2123713365031\n",
      "-10000000000.0\n"
     ]
    },
    {
     "data": {
      "image/png": "[encoded data removed]",
      "text/plain": [
       "<Figure size 800x600 with 2 Axes>"
      ]
     },
     "metadata": {},
     "output_type": "display_data"
    }
   ],
   "source": [
    "#plt.close()\n",
    "#w_vals[np.imag(w_vals) < max_threshold] = 0\n",
    "print(np.max(np.imag(w_vals)))\n",
    "print(np.min(np.imag(w_vals)))\n",
    "print(np.max(np.real(w_vals)))\n",
    "print(np.min(np.real(w_vals)))\n",
    "fig, ax = plt.subplots(figsize=(8, 6))\n",
    "cs = ax.contourf(alpha_R, alpha_I, np.real(w_vals_imag), levels=250)\n",
    "cbar = plt.colorbar(cs)\n",
    "cs.set_clim(-64, 80)\n",
    "ax.contour(alpha_R, alpha_I, np.imag(w_vals), levels=100, colors='black', linewidths=0.5)\n",
    "ax.contour(alpha_R, alpha_I, np.real(w_vals), levels=100, colors='gray', linewidths=0.5)\n",
    "# set colormap to jet\n",
    "cs.set_cmap('gray')\n",
    "ax.set_xlabel('$k_r$')\n",
    "ax.set_ylabel('$k_i$')\n",
    "#ax.set_xlim(0, 4)\n",
    "#ax.set_ylim(-4, 4)\n",
    "plt.ion()\n",
    "plt.show()"
   ]
  },
  {
   "cell_type": "markdown",
   "metadata": {},
   "source": [
    "Find the minimum absolute value of $\\partial D/\\partial k$:"
   ]
  },
  {
   "cell_type": "code",
   "execution_count": null,
   "metadata": {},
   "outputs": [],
   "source": [
    "print(w_vals_imag.shape)\n",
    "print(alpha.shape)\n",
    "deriv_vals = np.zeros_like(alpha)\n",
    "deriv_val_set = {'c': f'{sf.w}/{sf.alpha}'}\n",
    "deriv_disp_sub1 = deriv_disp.subs(deriv_val_set)\n",
    "for i in range(alpha.shape[0]):\n",
    "    print(f'Row {i+1} of {alpha.shape[0]}')\n",
    "    for j in range(alpha.shape[1]):\n",
    "        deriv_disp_sub2 = deriv_disp_sub1.subs({sf.alpha: alpha[i,j], sf.w: w_vals[i,j]})\n",
    "        deriv_vals[i,j] = deriv_disp_sub2.evalf()"
   ]
  },
  {
   "cell_type": "code",
   "execution_count": null,
   "metadata": {},
   "outputs": [],
   "source": [
    "fig, ax = plt.subplots(figsize=(8, 6))\n",
    "cs = ax.contourf(alpha_R, alpha_I, np.abs(deriv_vals), levels=250)\n",
    "cbar = plt.colorbar(cs)\n",
    "cs.set_clim(0, 8)\n",
    "ax.contour(alpha_R, alpha_I, np.abs(deriv_vals), levels=100, colors='black', linewidths=0.5)\n",
    "# set colormap to jet\n",
    "cs.set_cmap('gray')\n",
    "ax.set_xlabel('$k_r$')\n",
    "ax.set_ylabel('$k_i$')\n",
    "ax.set_xlim(0, 3.5)\n",
    "ax.set_ylim(-4, 4)\n",
    "plt.ion()\n",
    "plt.show()"
   ]
  },
  {
   "cell_type": "code",
   "execution_count": null,
   "metadata": {},
   "outputs": [],
   "source": [
    "res_i, res_j = np.unravel_index(np.argmin(np.abs(deriv_vals)), deriv_vals.shape)\n",
    "print(f'{res_i}, {res_j}')\n",
    "print(alpha_R[res_i, res_j])\n",
    "print(alpha_I[res_i, res_j])\n",
    "print(deriv_vals[res_i, res_j])\n",
    "print(abs(deriv_vals[res_i, res_j]))"
   ]
  },
  {
   "cell_type": "code",
   "execution_count": 30,
   "metadata": {},
   "outputs": [],
   "source": [
    "# save data as mat file\n",
    "import scipy.io as sio\n",
    "sio.savemat('C:\\\\Users\\\\tvivek\\\\Desktop\\\\w_vals_imag.mat', {'w_vals': w_vals, 'alpha_R': alpha_R, 'alpha_I': alpha_I})"
   ]
  },
  {
   "cell_type": "code",
   "execution_count": null,
   "metadata": {},
   "outputs": [],
   "source": [
    "from matplotlib.widgets import Cursor\n",
    "# Add cursor for better pointing\n",
    "cursor = Cursor(ax, useblit=True, color='red', linewidth=1)\n",
    "\n",
    "# Create annotation that will show the value\n",
    "annot = ax.annotate(\"\", xy=(0,0), xytext=(20,20), \n",
    "                   textcoords=\"offset points\",\n",
    "                   bbox=dict(boxstyle=\"round\", fc=\"w\"),\n",
    "                   arrowprops=dict(arrowstyle=\"->\"))\n",
    "annot.set_visible(False)\n",
    "\n",
    "def onclick(event):\n",
    "    if event.inaxes != ax:\n",
    "        return\n",
    "    \n",
    "    # Hide previous annotation\n",
    "    annot.set_visible(False)\n",
    "    \n",
    "    # Get clicked coordinates\n",
    "    x_click, y_click = event.xdata, event.ydata\n",
    "    \n",
    "    # Find closest data point (since we can't interpolate from contour directly)\n",
    "    idx_x = np.argmin(np.abs(x - x_click))\n",
    "    idx_y = np.argmin(np.abs(y - y_click))\n",
    "    z_value = Z[idx_y, idx_x]  # Note y comes first in 2D arrays\n",
    "    \n",
    "    # Update annotation\n",
    "    annot.xy = (x_click, y_click)\n",
    "    annot.set_text(f\"Value: {z_value:.3f}\")\n",
    "    annot.set_visible(True)\n",
    "    \n",
    "    # Mark the clicked point\n",
    "    if hasattr(onclick, 'marker'):\n",
    "        onclick.marker.remove()\n",
    "    onclick.marker = ax.plot(x_click, y_click, 'ro')[0]\n",
    "    \n",
    "    fig.canvas.draw_idle()\n",
    "\n",
    "# Connect the click event\n",
    "fig.canvas.mpl_connect('button_press_event', onclick)\n",
    "plt.tight_layout()\n",
    "plt.show()"
   ]
  },
  {
   "cell_type": "markdown",
   "metadata": {},
   "source": [
    "The biggest problem that I'm facing right now is the uncertainty of not knowing whether the dispersion relation that I have is actually correct or wrong. That can be partially (I think 80%) rectified if I'm able to match the existing results of temporal stability from literature with the result that I'm getting with the dispersion relation that I derived. So here we do exactly that: "
   ]
  },
  {
   "cell_type": "code",
   "execution_count": null,
   "metadata": {},
   "outputs": [],
   "source": [
    "alpha_r_ts = np.arange(0.01, 8.01, 0.25)\n",
    "c_vals = []\n",
    "for alpha_val in alpha_r_ts:\n",
    "    c_val_list = ts.find_c(alpha_val)\n",
    "    c_val_list[np.isinf(np.abs(c_val_list))] = -1000000000\n",
    "    c_vals.append(np.max(np.imag(c_val_list)))\n",
    "\n",
    "c_vals = np.array(c_vals)\n",
    "w_vals = c_vals * alpha_r_ts\n",
    "\n",
    "plt.ion()\n",
    "plt.figure()\n",
    "#plt.plot(x_D, w0i, color='blue', linestyle='--')\n",
    "plt.plot(alpha_r_ts, w_vals, color='blue')\n",
    "plt.scatter(alpha_r_ts, w_vals, color='blue', marker='x', s=50, label='Varicose mode')\n",
    "plt.xlabel('$k_r$')\n",
    "plt.ylabel('$\\omega_i$')"
   ]
  },
  {
   "cell_type": "code",
   "execution_count": null,
   "metadata": {},
   "outputs": [],
   "source": [
    "c_val_list.shape"
   ]
  }
 ],
 "metadata": {
  "kernelspec": {
   "display_name": "Python 3",
   "language": "python",
   "name": "python3"
  },
  "language_info": {
   "codemirror_mode": {
    "name": "ipython",
    "version": 3
   },
   "file_extension": ".py",
   "mimetype": "text/x-python",
   "name": "python",
   "nbconvert_exporter": "python",
   "pygments_lexer": "ipython3",
   "version": "3.12.10"
  }
 },
 "nbformat": 4,
 "nbformat_minor": 2
}
